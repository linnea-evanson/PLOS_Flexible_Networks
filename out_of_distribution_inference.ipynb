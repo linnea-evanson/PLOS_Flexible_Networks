{
 "cells": [
  {
   "cell_type": "code",
   "execution_count": null,
   "id": "a9ef4206-a7fa-4f6d-a915-a8199c2747c8",
   "metadata": {},
   "outputs": [],
   "source": [
    "import sys\n",
    "import os\n",
    "import torch\n",
    "import torchvision.transforms as transforms\n",
    "import torchvision.datasets as datasets\n",
    "from datetime import datetime\n",
    "\n",
    "from network_definitions import VGG16\n",
    "\n",
    "\"\"\"\n",
    "This notebook runs inference of upsampled CIFAR10 trained models on the generalisation dataset (CIFAR-10G)\n",
    "\"\"\""
   ]
  },
  {
   "cell_type": "code",
   "execution_count": null,
   "id": "580444fe-8637-4504-afe9-997e6b57fe1e",
   "metadata": {},
   "outputs": [],
   "source": [
    "def test(self, model, testloader):\n",
    "    # Fuction performing testing and returning testing accuracy\n",
    "    correct = 0\n",
    "    total = 0\n",
    "    accuracy = 0\n",
    "    model.train(False)\n",
    "    with torch.no_grad():\n",
    "        for i,(images,labels)in enumerate(tqdm(testloader)):\n",
    "            if torch.cuda.is_available():\n",
    "                images = images.cuda()\n",
    "                labels = labels.cuda()\n",
    "            outputs = model(Variable(images.cuda()))\n",
    "            labels = Variable(labels.cuda())\n",
    "\n",
    "            _,predicted = outputs.max(1)\n",
    "            correct = predicted.eq(labels).sum().item()\n",
    "            total = labels.size(0)\n",
    "            accuracy+=100*(correct/total)\n",
    "    return accuracy/len(testloader)\n",
    "\n",
    "def save_accuracy(path,m_type,w_f,cat,a,m=\"Local\"):\n",
    "    file_path = path + \"generalisation_inference.csv\"\n",
    "    if os.path.isfile(file_path):\n",
    "        f = open(file_path, \"a\")\n",
    "    else:\n",
    "        f = open(file_path, \"x\")\n",
    "        f.write(\"model_type,last_training_epoch,category,inference_accuracy,original_training_accuracy,original_testing_accuracy,date_time,machine\" + \"\\n\")\n",
    "    f.write(m_type + ',' + w_f.split('_')[-5] + ',' + cat + ',' + str(a) + ',' + w_f.split('_')[-3] + ',' + w_f.split('_')[-1].split('.')[0] + ',' + datetime.now().strftime(\"%d/%m/%Y %H:%M:%S\") + ',' + m + \"\\n\")\n",
    "    f.close()"
   ]
  },
  {
   "cell_type": "code",
   "execution_count": null,
   "id": "adbbfb15-6510-439e-b608-37f176c4091f",
   "metadata": {},
   "outputs": [],
   "source": [
    "def run():\n",
    "    \n",
    "    mean_cifar10=122.61385345458984\n",
    "    std_cifar10=60.87860107421875\n",
    "    \n",
    "    cifar_transforms = transforms.Compose([\n",
    "        transforms.Grayscale(),\n",
    "        transforms.ToTensor(),\n",
    "        transforms.Normalize(mean_cifar10,std_cifar10)])\n",
    "    \n",
    "    for folder in generalisation_categories:\n",
    "        testset = datasets.ImageFolder(testing_path + folder, transform=cifar_transforms)\n",
    "        inference_loader = torch.utils.data.DataLoader(testset, batch_size=50, shuffle=False, num_workers=4, pin_memory=False)\n",
    "\n",
    "        # do inference\n",
    "        accuracy = test(model, inference_loader)\n",
    "        save_accuracy(base_path+\"/\", model_type, weights_file, folder, accuracy, running_machine)\n",
    "        print('model:',model_type,'| category:',folder,'| accuracy:',accuracy,'%')"
   ]
  },
  {
   "cell_type": "code",
   "execution_count": null,
   "id": "695e2cd7-8ae0-4e9c-93b1-5d2c1c70a0b1",
   "metadata": {},
   "outputs": [],
   "source": [
    "# load last trained model checkpoint\n",
    "base_path = '/home/user/data'\n",
    "weights_file = \"/path/to/trained/model\"\n",
    "model_type = \"VGG16\"\n",
    "running_machine = \"Local\"\n",
    "testing_path = base_path + \"/CIFAR-10G/224x224/\"\n",
    "\n",
    "model = VGG16().to(\"cuda\")\n",
    "dict = torch.load(weights_file)\n",
    "model.load_state_dict(dict[\"model_state\"])\n",
    "\n",
    "generalisation_categories = [\"contours\",\"contours_inverted\",\"line_drawings\",\"line_drawings_inverted\",\"silhouettes\",\"silhouettes_inverted\"]\n",
    "\n",
    "run()"
   ]
  }
 ],
 "metadata": {
  "kernelspec": {
   "display_name": "Python 3 (ipykernel)",
   "language": "python",
   "name": "python3"
  },
  "language_info": {
   "codemirror_mode": {
    "name": "ipython",
    "version": 3
   },
   "file_extension": ".py",
   "mimetype": "text/x-python",
   "name": "python",
   "nbconvert_exporter": "python",
   "pygments_lexer": "ipython3",
   "version": "3.9.13"
  }
 },
 "nbformat": 4,
 "nbformat_minor": 5
}
